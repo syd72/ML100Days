{
 "cells": [
  {
   "cell_type": "code",
   "execution_count": 1,
   "metadata": {
    "collapsed": true
   },
   "outputs": [],
   "source": [
    "import numpy as np"
   ]
  },
  {
   "cell_type": "code",
   "execution_count": 2,
   "metadata": {
    "collapsed": true
   },
   "outputs": [],
   "source": [
    "english_score = np.array([55,89,76,65,48,70])\n",
    "math_score = np.array([60,85,60,68,55,60])\n",
    "chinese_score = np.array([65,90,82,72,66,77])"
   ]
  },
  {
   "cell_type": "code",
   "execution_count": 5,
   "metadata": {},
   "outputs": [
    {
     "name": "stdout",
     "output_type": "stream",
     "text": [
      "3 students' English scores are higher than their math scores.\n"
     ]
    }
   ],
   "source": [
    "#1.有多少學生英文成績比數學成績高?\n",
    "score1 = np.greater(english_score, math_score)\n",
    "ct = 0\n",
    "for s in score1:\n",
    "    if s == True:\n",
    "        ct +=1\n",
    "print(ct,\"students' English scores are higher than their math scores.\")"
   ]
  },
  {
   "cell_type": "code",
   "execution_count": 10,
   "metadata": {},
   "outputs": [
    {
     "data": {
      "text/plain": [
       "True"
      ]
     },
     "execution_count": 10,
     "metadata": {},
     "output_type": "execute_result"
    }
   ],
   "source": [
    "#2.是否全班同學最高分都是國文?\n",
    "a = chinese_score > math_score\n",
    "b = chinese_score > english_score\n",
    "c = np.stack((a,b))\n",
    "np.all(c)"
   ]
  },
  {
   "cell_type": "code",
   "execution_count": null,
   "metadata": {
    "collapsed": true
   },
   "outputs": [],
   "source": []
  }
 ],
 "metadata": {
  "kernelspec": {
   "display_name": "Python 3",
   "language": "python",
   "name": "python3"
  },
  "language_info": {
   "codemirror_mode": {
    "name": "ipython",
    "version": 3
   },
   "file_extension": ".py",
   "mimetype": "text/x-python",
   "name": "python",
   "nbconvert_exporter": "python",
   "pygments_lexer": "ipython3",
   "version": "3.6.3"
  }
 },
 "nbformat": 4,
 "nbformat_minor": 2
}
