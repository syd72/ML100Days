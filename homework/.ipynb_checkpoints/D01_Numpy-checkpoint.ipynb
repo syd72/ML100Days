{
 "cells": [
  {
   "cell_type": "code",
   "execution_count": 12,
   "metadata": {},
   "outputs": [],
   "source": [
    "import numpy as np\n",
    "a = np.arange(0,21,dtype=np.int)\n",
    "print(\"Array:\",a)"
   ]
  },
  {
   "cell_type": "code",
   "execution_count": 15,
   "metadata": {},
   "outputs": [
    {
     "name": "stdout",
     "output_type": "stream",
     "text": [
      "偶數： [0, 2, 4, 6, 8, 10, 12, 14, 16, 18, 20]\n"
     ]
    }
   ],
   "source": [
    "lst = []\n",
    "for i in a:\n",
    "    if i%2 == 0:\n",
    "        lst.append(i)\n",
    "print(\"偶數：\",lst)"
   ]
  },
  {
   "cell_type": "code",
   "execution_count": 16,
   "metadata": {},
   "outputs": [
    {
     "name": "stdout",
     "output_type": "stream",
     "text": [
      "3的倍數： [3, 6, 9, 12, 15, 18]\n"
     ]
    }
   ],
   "source": [
    "n = 0\n",
    "lst = []\n",
    "for i in a:\n",
    "    if i>0 and i%3 == 0:\n",
    "        lst.append(i)\n",
    "print(\"3的倍數：\",lst)"
   ]
  },
  {
   "cell_type": "code",
   "execution_count": null,
   "metadata": {
    "collapsed": true
   },
   "outputs": [],
   "source": []
  }
 ],
 "metadata": {
  "kernelspec": {
   "display_name": "Python 3",
   "language": "python",
   "name": "python3"
  },
  "language_info": {
   "codemirror_mode": {
    "name": "ipython",
    "version": 3
   },
   "file_extension": ".py",
   "mimetype": "text/x-python",
   "name": "python",
   "nbconvert_exporter": "python",
   "pygments_lexer": "ipython3",
   "version": "3.6.3"
  }
 },
 "nbformat": 4,
 "nbformat_minor": 2
}
