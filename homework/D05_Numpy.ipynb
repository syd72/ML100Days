{
 "cells": [
  {
   "cell_type": "code",
   "execution_count": 1,
   "metadata": {
    "collapsed": true
   },
   "outputs": [],
   "source": [
    "import numpy as np"
   ]
  },
  {
   "cell_type": "code",
   "execution_count": 6,
   "metadata": {
    "collapsed": true
   },
   "outputs": [],
   "source": [
    "english_score = np.array([55,89,76,65,48,70])\n",
    "math_score = np.array([60,85,60,68,np.nan,60])\n",
    "chinese_score = np.array([65,90,82,72,66,77])"
   ]
  },
  {
   "cell_type": "code",
   "execution_count": 7,
   "metadata": {},
   "outputs": [
    {
     "name": "stdout",
     "output_type": "stream",
     "text": [
      "english_score\n",
      "mean: 67.1666666667 ; max: 89 ; min: 48 ; std: 13.4339950209\n",
      "math_score\n",
      "mean: 66.6 ; max: 85.0 ; min: 60.0 ; std: 9.70772887961\n",
      "chinese_score\n",
      "mean: 75.3333333333 ; max: 90 ; min: 65 ; std: 8.82546819658\n"
     ]
    }
   ],
   "source": [
    "#1. 請計算各科成績平均、最大值、最小值、標準差，其中數學缺一筆資料可忽略?\n",
    "mydict = {}\n",
    "mydict[\"english_score\"] = english_score\n",
    "mydict[\"math_score\"] = math_score\n",
    "mydict[\"chinese_score\"] = chinese_score\n",
    "for k,v in mydict.items():\n",
    "    print(k)\n",
    "    print(\"mean:\", np.nanmean(v),\"; max:\",np.nanmax(v),\"; min:\", np.nanmin(v),\"; std:\", np.nanstd(v))"
   ]
  },
  {
   "cell_type": "code",
   "execution_count": 8,
   "metadata": {},
   "outputs": [
    {
     "name": "stdout",
     "output_type": "stream",
     "text": [
      "math_score\n",
      "mean: 64.6666666667 ; max: 85.0 ; min: 55.0 ; std: 9.86013297183\n"
     ]
    }
   ],
   "source": [
    "#2. 第五位同學補考數學後成績為55，請計算補考後數學成績平均、最大值、最小值、標準差?\n",
    "math_score[4] = 55\n",
    "mydict[\"math_score\"] = math_score\n",
    "for k,v in mydict.items():\n",
    "    if k == \"math_score\":\n",
    "        print(k)\n",
    "        print(\"mean:\", np.nanmean(v),\"; max:\",np.nanmax(v),\"; min:\", np.nanmin(v),\"; std:\", np.nanstd(v))"
   ]
  },
  {
   "cell_type": "code",
   "execution_count": 9,
   "metadata": {},
   "outputs": [
    {
     "data": {
      "text/plain": [
       "('english_score', 0.97792828302112689)"
      ]
     },
     "execution_count": 9,
     "metadata": {},
     "output_type": "execute_result"
    }
   ],
   "source": [
    "#3. 用補考後資料找出與國文成績相關係數最高的學科?\n",
    "coef = {}\n",
    "del mydict[\"chinese_score\"]\n",
    "for k,v in mydict.items():\n",
    "    coef[k] = np.corrcoef(v,chinese_score).min()\n",
    "sorted(coef.items(), key=lambda item: item[1])[1]"
   ]
  },
  {
   "cell_type": "code",
   "execution_count": null,
   "metadata": {
    "collapsed": true
   },
   "outputs": [],
   "source": []
  }
 ],
 "metadata": {
  "kernelspec": {
   "display_name": "Python 3",
   "language": "python",
   "name": "python3"
  },
  "language_info": {
   "codemirror_mode": {
    "name": "ipython",
    "version": 3
   },
   "file_extension": ".py",
   "mimetype": "text/x-python",
   "name": "python",
   "nbconvert_exporter": "python",
   "pygments_lexer": "ipython3",
   "version": "3.6.3"
  }
 },
 "nbformat": 4,
 "nbformat_minor": 2
}
